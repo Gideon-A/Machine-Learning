{
 "cells": [
  {
   "cell_type": "code",
   "execution_count": 1,
   "metadata": {
    "scrolled": true
   },
   "outputs": [
    {
     "name": "stderr",
     "output_type": "stream",
     "text": [
      "Warning message:\n",
      "\"package 'tidyverse' was built under R version 3.6.3\"\n",
      "-- \u001b[1mAttaching packages\u001b[22m --------------------------------------- tidyverse 1.3.0 --\n",
      "\n",
      "\u001b[32mv\u001b[39m \u001b[34mggplot2\u001b[39m 3.3.2     \u001b[32mv\u001b[39m \u001b[34mpurrr  \u001b[39m 0.3.4\n",
      "\u001b[32mv\u001b[39m \u001b[34mtibble \u001b[39m 3.0.4     \u001b[32mv\u001b[39m \u001b[34mdplyr  \u001b[39m 1.0.2\n",
      "\u001b[32mv\u001b[39m \u001b[34mtidyr  \u001b[39m 1.1.2     \u001b[32mv\u001b[39m \u001b[34mstringr\u001b[39m 1.4.0\n",
      "\u001b[32mv\u001b[39m \u001b[34mreadr  \u001b[39m 1.4.0     \u001b[32mv\u001b[39m \u001b[34mforcats\u001b[39m 0.5.0\n",
      "\n",
      "Warning message:\n",
      "\"package 'ggplot2' was built under R version 3.6.3\"\n",
      "Warning message:\n",
      "\"package 'tibble' was built under R version 3.6.3\"\n",
      "Warning message:\n",
      "\"package 'tidyr' was built under R version 3.6.3\"\n",
      "Warning message:\n",
      "\"package 'readr' was built under R version 3.6.3\"\n",
      "Warning message:\n",
      "\"package 'purrr' was built under R version 3.6.3\"\n",
      "Warning message:\n",
      "\"package 'dplyr' was built under R version 3.6.3\"\n",
      "Warning message:\n",
      "\"package 'stringr' was built under R version 3.6.3\"\n",
      "Warning message:\n",
      "\"package 'forcats' was built under R version 3.6.3\"\n",
      "-- \u001b[1mConflicts\u001b[22m ------------------------------------------ tidyverse_conflicts() --\n",
      "\u001b[31mx\u001b[39m \u001b[34mdplyr\u001b[39m::\u001b[32mfilter()\u001b[39m masks \u001b[34mstats\u001b[39m::filter()\n",
      "\u001b[31mx\u001b[39m \u001b[34mdplyr\u001b[39m::\u001b[32mlag()\u001b[39m    masks \u001b[34mstats\u001b[39m::lag()\n",
      "\n",
      "Loading required package: lattice\n",
      "\n",
      "\n",
      "Attaching package: 'caret'\n",
      "\n",
      "\n",
      "The following object is masked from 'package:purrr':\n",
      "\n",
      "    lift\n",
      "\n",
      "\n",
      "Warning message:\n",
      "\"package 'e1071' was built under R version 3.6.3\"\n",
      "Warning message:\n",
      "\"package 'pROC' was built under R version 3.6.3\"\n",
      "Type 'citation(\"pROC\")' for a citation.\n",
      "\n",
      "\n",
      "Attaching package: 'pROC'\n",
      "\n",
      "\n",
      "The following objects are masked from 'package:stats':\n",
      "\n",
      "    cov, smooth, var\n",
      "\n",
      "\n",
      "Warning message:\n",
      "\"package 'GGally' was built under R version 3.6.3\"\n",
      "Registered S3 method overwritten by 'GGally':\n",
      "  method from   \n",
      "  +.gg   ggplot2\n",
      "\n",
      "Warning message:\n",
      "\"package 'FactoMineR' was built under R version 3.6.3\"\n",
      "Warning message:\n",
      "\"package 'factoextra' was built under R version 3.6.3\"\n",
      "Welcome! Want to learn more? See two factoextra-related books at https://goo.gl/ve3WBa\n",
      "\n",
      "\n",
      "Attaching package: 'MASS'\n",
      "\n",
      "\n",
      "The following object is masked from 'package:dplyr':\n",
      "\n",
      "    select\n",
      "\n",
      "\n",
      "Warning message:\n",
      "\"package 'ROSE' was built under R version 3.6.3\"\n",
      "Loaded ROSE 0.0-3\n",
      "\n",
      "\n",
      "Warning message:\n",
      "\"package 'plotly' was built under R version 3.6.3\"\n",
      "\n",
      "Attaching package: 'plotly'\n",
      "\n",
      "\n",
      "The following object is masked from 'package:MASS':\n",
      "\n",
      "    select\n",
      "\n",
      "\n",
      "The following object is masked from 'package:ggplot2':\n",
      "\n",
      "    last_plot\n",
      "\n",
      "\n",
      "The following object is masked from 'package:stats':\n",
      "\n",
      "    filter\n",
      "\n",
      "\n",
      "The following object is masked from 'package:graphics':\n",
      "\n",
      "    layout\n",
      "\n",
      "\n",
      "Warning message:\n",
      "\"package 'magrittr' was built under R version 3.6.3\"\n",
      "\n",
      "Attaching package: 'magrittr'\n",
      "\n",
      "\n",
      "The following object is masked from 'package:purrr':\n",
      "\n",
      "    set_names\n",
      "\n",
      "\n",
      "The following object is masked from 'package:tidyr':\n",
      "\n",
      "    extract\n",
      "\n",
      "\n"
     ]
    }
   ],
   "source": [
    "# Imported libraries\n",
    "library(tidyverse)\n",
    "library(caret)\n",
    "library(rpart)\n",
    "library(e1071) # pruning\n",
    "library(pROC)\n",
    "theme_set(theme_classic())\n",
    "library(GGally)\n",
    "library(FactoMineR)\n",
    "library(factoextra)\n",
    "library(MASS)\n",
    "library(ROSE)\n",
    "library(ggplot2)\n",
    "library(plotly)\n",
    "library(magrittr)"
   ]
  },
  {
   "cell_type": "code",
   "execution_count": 2,
   "metadata": {},
   "outputs": [
    {
     "name": "stderr",
     "output_type": "stream",
     "text": [
      "\n",
      "\u001b[36m--\u001b[39m \u001b[1m\u001b[1mColumn specification\u001b[1m\u001b[22m \u001b[36m--------------------------------------------------------\u001b[39m\n",
      "cols(\n",
      "  Pregnancies = \u001b[32mcol_double()\u001b[39m,\n",
      "  Glucose = \u001b[32mcol_double()\u001b[39m,\n",
      "  BloodPressure = \u001b[32mcol_double()\u001b[39m,\n",
      "  SkinThickness = \u001b[32mcol_double()\u001b[39m,\n",
      "  Insulin = \u001b[32mcol_double()\u001b[39m,\n",
      "  BMI = \u001b[32mcol_double()\u001b[39m,\n",
      "  DiabetesPedigreeFunction = \u001b[32mcol_double()\u001b[39m,\n",
      "  Age = \u001b[32mcol_double()\u001b[39m,\n",
      "  Outcome = \u001b[31mcol_character()\u001b[39m\n",
      ")\n",
      "\n",
      "\n"
     ]
    },
    {
     "data": {
      "text/html": [
       "<table>\n",
       "<thead><tr><th scope=col>Pregnancies</th><th scope=col>Glucose</th><th scope=col>BloodPressure</th><th scope=col>SkinThickness</th><th scope=col>Insulin</th><th scope=col>BMI</th><th scope=col>DiabetesPedigreeFunction</th><th scope=col>Age</th><th scope=col>Outcome</th></tr></thead>\n",
       "<tbody>\n",
       "\t<tr><td>4    </td><td>123  </td><td>62   </td><td> 0   </td><td> 0   </td><td>32.0 </td><td>0.226</td><td>35   </td><td>pos  </td></tr>\n",
       "\t<tr><td>8    </td><td>107  </td><td>80   </td><td> 0   </td><td> 0   </td><td>24.6 </td><td>0.856</td><td>34   </td><td>neg  </td></tr>\n",
       "\t<tr><td>3    </td><td>107  </td><td>62   </td><td>13   </td><td>48   </td><td>22.9 </td><td>0.678</td><td>23   </td><td>pos  </td></tr>\n",
       "\t<tr><td>2    </td><td>101  </td><td>58   </td><td>35   </td><td>90   </td><td>21.8 </td><td>0.155</td><td>22   </td><td>neg  </td></tr>\n",
       "\t<tr><td>3    </td><td>111  </td><td>56   </td><td>39   </td><td> 0   </td><td>30.1 </td><td>0.557</td><td>30   </td><td>neg  </td></tr>\n",
       "</tbody>\n",
       "</table>\n"
      ],
      "text/latex": [
       "\\begin{tabular}{r|lllllllll}\n",
       " Pregnancies & Glucose & BloodPressure & SkinThickness & Insulin & BMI & DiabetesPedigreeFunction & Age & Outcome\\\\\n",
       "\\hline\n",
       "\t 4     & 123   & 62    &  0    &  0    & 32.0  & 0.226 & 35    & pos  \\\\\n",
       "\t 8     & 107   & 80    &  0    &  0    & 24.6  & 0.856 & 34    & neg  \\\\\n",
       "\t 3     & 107   & 62    & 13    & 48    & 22.9  & 0.678 & 23    & pos  \\\\\n",
       "\t 2     & 101   & 58    & 35    & 90    & 21.8  & 0.155 & 22    & neg  \\\\\n",
       "\t 3     & 111   & 56    & 39    &  0    & 30.1  & 0.557 & 30    & neg  \\\\\n",
       "\\end{tabular}\n"
      ],
      "text/markdown": [
       "\n",
       "| Pregnancies | Glucose | BloodPressure | SkinThickness | Insulin | BMI | DiabetesPedigreeFunction | Age | Outcome |\n",
       "|---|---|---|---|---|---|---|---|---|\n",
       "| 4     | 123   | 62    |  0    |  0    | 32.0  | 0.226 | 35    | pos   |\n",
       "| 8     | 107   | 80    |  0    |  0    | 24.6  | 0.856 | 34    | neg   |\n",
       "| 3     | 107   | 62    | 13    | 48    | 22.9  | 0.678 | 23    | pos   |\n",
       "| 2     | 101   | 58    | 35    | 90    | 21.8  | 0.155 | 22    | neg   |\n",
       "| 3     | 111   | 56    | 39    |  0    | 30.1  | 0.557 | 30    | neg   |\n",
       "\n"
      ],
      "text/plain": [
       "  Pregnancies Glucose BloodPressure SkinThickness Insulin BMI \n",
       "1 4           123     62             0             0      32.0\n",
       "2 8           107     80             0             0      24.6\n",
       "3 3           107     62            13            48      22.9\n",
       "4 2           101     58            35            90      21.8\n",
       "5 3           111     56            39             0      30.1\n",
       "  DiabetesPedigreeFunction Age Outcome\n",
       "1 0.226                    35  pos    \n",
       "2 0.856                    34  neg    \n",
       "3 0.678                    23  pos    \n",
       "4 0.155                    22  neg    \n",
       "5 0.557                    30  neg    "
      ]
     },
     "metadata": {},
     "output_type": "display_data"
    }
   ],
   "source": [
    "# Loading of the data\n",
    "PimaIndiansDiabetes2 = read_csv(\"diabetes_pima.csv\") # reclassed 1,0 to pos, neg\n",
    "pima.data = na.omit(PimaIndiansDiabetes2) # removing NAs (missing values)\n",
    "\n",
    "# Inspecting the data\n",
    "sample_n(pima.data, 5)"
   ]
  },
  {
   "cell_type": "code",
   "execution_count": 3,
   "metadata": {},
   "outputs": [
    {
     "data": {
      "image/png": "[encoded data removed]",
      "text/plain": [
       "plot without title"
      ]
     },
     "metadata": {
      "image/png": {
       "height": 420,
       "width": 420
      }
     },
     "output_type": "display_data"
    }
   ],
   "source": [
    "g = ggplot(pima.data, aes(Outcome, fill=\"red\"))\n",
    "g + geom_bar(colour=\"black\") +\n",
    "    guides(fill=FALSE)"
   ]
  },
  {
   "cell_type": "code",
   "execution_count": 4,
   "metadata": {},
   "outputs": [
    {
     "data": {
      "text/plain": [
       "\n",
       "neg pos \n",
       "500 268 "
      ]
     },
     "metadata": {},
     "output_type": "display_data"
    },
    {
     "data": {
      "text/plain": [
       "\n",
       "      neg       pos \n",
       "0.6510417 0.3489583 "
      ]
     },
     "metadata": {},
     "output_type": "display_data"
    },
    {
     "data": {
      "text/plain": [
       "\n",
       "neg pos \n",
       "396 372 "
      ]
     },
     "metadata": {},
     "output_type": "display_data"
    },
    {
     "data": {
      "text/plain": [
       "\n",
       "neg pos \n",
       "396 372 "
      ]
     },
     "metadata": {},
     "output_type": "display_data"
    },
    {
     "data": {
      "text/plain": [
       "\n",
       "     neg      pos \n",
       "0.515625 0.484375 "
      ]
     },
     "metadata": {},
     "output_type": "display_data"
    }
   ],
   "source": [
    "# Dealing with imbalanced data\n",
    "table(pima.data$Outcome)\n",
    "\n",
    "# classes distribution\n",
    "prop.table(table(pima.data$Outcome))\n",
    "\n",
    "# shows a slight imbalance which could affect prediction accuracy\n",
    "\n",
    "\n",
    "pima.data_balanced_both = ovun.sample(Outcome ~ ., data = pima.data, method = \"both\", p=0.5, N=768, seed = 1)$data\n",
    "table(pima.data_balanced_both$Outcome)\n",
    "\n",
    "pima.data_balanced = ROSE(Outcome ~ ., data = pima.data, seed = 1)$data\n",
    "table(pima.data_balanced$Outcome)\n",
    "\n",
    "# new class distribution\n",
    "prop.table(table(pima.data_balanced_both$Outcome))"
   ]
  },
  {
   "cell_type": "markdown",
   "metadata": {},
   "source": [
    "# Splitting the data"
   ]
  },
  {
   "cell_type": "code",
   "execution_count": 5,
   "metadata": {},
   "outputs": [
    {
     "data": {
      "text/html": [
       "<table>\n",
       "<thead><tr><th scope=col>Pregnancies</th><th scope=col>Glucose</th><th scope=col>BloodPressure</th><th scope=col>SkinThickness</th><th scope=col>Insulin</th><th scope=col>BMI</th><th scope=col>DiabetesPedigreeFunction</th><th scope=col>Age</th><th scope=col>Outcome</th></tr></thead>\n",
       "<tbody>\n",
       "\t<tr><td> 1   </td><td>124  </td><td>60   </td><td>32   </td><td>  0  </td><td>35.8 </td><td>0.514</td><td>21   </td><td>neg  </td></tr>\n",
       "\t<tr><td> 0   </td><td>162  </td><td>76   </td><td>36   </td><td>  0  </td><td>49.6 </td><td>0.364</td><td>26   </td><td>pos  </td></tr>\n",
       "\t<tr><td> 3   </td><td>139  </td><td>54   </td><td> 0   </td><td>  0  </td><td>25.6 </td><td>0.402</td><td>22   </td><td>pos  </td></tr>\n",
       "\t<tr><td>11   </td><td>138  </td><td>74   </td><td>26   </td><td>144  </td><td>36.1 </td><td>0.557</td><td>50   </td><td>pos  </td></tr>\n",
       "\t<tr><td>10   </td><td>148  </td><td>84   </td><td>48   </td><td>237  </td><td>37.6 </td><td>1.001</td><td>51   </td><td>pos  </td></tr>\n",
       "</tbody>\n",
       "</table>\n"
      ],
      "text/latex": [
       "\\begin{tabular}{r|lllllllll}\n",
       " Pregnancies & Glucose & BloodPressure & SkinThickness & Insulin & BMI & DiabetesPedigreeFunction & Age & Outcome\\\\\n",
       "\\hline\n",
       "\t  1    & 124   & 60    & 32    &   0   & 35.8  & 0.514 & 21    & neg  \\\\\n",
       "\t  0    & 162   & 76    & 36    &   0   & 49.6  & 0.364 & 26    & pos  \\\\\n",
       "\t  3    & 139   & 54    &  0    &   0   & 25.6  & 0.402 & 22    & pos  \\\\\n",
       "\t 11    & 138   & 74    & 26    & 144   & 36.1  & 0.557 & 50    & pos  \\\\\n",
       "\t 10    & 148   & 84    & 48    & 237   & 37.6  & 1.001 & 51    & pos  \\\\\n",
       "\\end{tabular}\n"
      ],
      "text/markdown": [
       "\n",
       "| Pregnancies | Glucose | BloodPressure | SkinThickness | Insulin | BMI | DiabetesPedigreeFunction | Age | Outcome |\n",
       "|---|---|---|---|---|---|---|---|---|\n",
       "|  1    | 124   | 60    | 32    |   0   | 35.8  | 0.514 | 21    | neg   |\n",
       "|  0    | 162   | 76    | 36    |   0   | 49.6  | 0.364 | 26    | pos   |\n",
       "|  3    | 139   | 54    |  0    |   0   | 25.6  | 0.402 | 22    | pos   |\n",
       "| 11    | 138   | 74    | 26    | 144   | 36.1  | 0.557 | 50    | pos   |\n",
       "| 10    | 148   | 84    | 48    | 237   | 37.6  | 1.001 | 51    | pos   |\n",
       "\n"
      ],
      "text/plain": [
       "  Pregnancies Glucose BloodPressure SkinThickness Insulin BMI \n",
       "1  1          124     60            32              0     35.8\n",
       "2  0          162     76            36              0     49.6\n",
       "3  3          139     54             0              0     25.6\n",
       "4 11          138     74            26            144     36.1\n",
       "5 10          148     84            48            237     37.6\n",
       "  DiabetesPedigreeFunction Age Outcome\n",
       "1 0.514                    21  neg    \n",
       "2 0.364                    26  pos    \n",
       "3 0.402                    22  pos    \n",
       "4 0.557                    50  pos    \n",
       "5 1.001                    51  pos    "
      ]
     },
     "metadata": {},
     "output_type": "display_data"
    }
   ],
   "source": [
    "pima.data_balanced_both$Outcome %<>% factor # identifies Outcome feature as binary \n",
    "\n",
    "sample_n(pima.data_balanced_both, 5)"
   ]
  },
  {
   "cell_type": "code",
   "execution_count": 6,
   "metadata": {},
   "outputs": [
    {
     "data": {
      "text/html": [
       "<table>\n",
       "<thead><tr><th scope=col>Pregnancies</th><th scope=col>Glucose</th><th scope=col>BloodPressure</th><th scope=col>SkinThickness</th><th scope=col>Insulin</th><th scope=col>BMI</th><th scope=col>DiabetesPedigreeFunction</th><th scope=col>Age</th><th scope=col>Outcome</th></tr></thead>\n",
       "<tbody>\n",
       "\t<tr><td>4    </td><td>110  </td><td>66   </td><td> 0   </td><td>  0  </td><td>31.9 </td><td>0.471</td><td>29   </td><td>neg  </td></tr>\n",
       "\t<tr><td>2    </td><td>174  </td><td>88   </td><td>37   </td><td>120  </td><td>44.5 </td><td>0.646</td><td>24   </td><td>pos  </td></tr>\n",
       "\t<tr><td>0    </td><td>141  </td><td>84   </td><td>26   </td><td>  0  </td><td>32.4 </td><td>0.433</td><td>22   </td><td>neg  </td></tr>\n",
       "\t<tr><td>7    </td><td>100  </td><td> 0   </td><td> 0   </td><td>  0  </td><td>30.0 </td><td>0.484</td><td>32   </td><td>pos  </td></tr>\n",
       "\t<tr><td>7    </td><td>196  </td><td>90   </td><td> 0   </td><td>  0  </td><td>39.8 </td><td>0.451</td><td>41   </td><td>pos  </td></tr>\n",
       "\t<tr><td>5    </td><td>124  </td><td>74   </td><td> 0   </td><td>  0  </td><td>34.0 </td><td>0.220</td><td>38   </td><td>pos  </td></tr>\n",
       "\t<tr><td>4    </td><td> 95  </td><td>64   </td><td> 0   </td><td>  0  </td><td>32.0 </td><td>0.161</td><td>31   </td><td>pos  </td></tr>\n",
       "\t<tr><td>0    </td><td>101  </td><td>62   </td><td> 0   </td><td>  0  </td><td>21.9 </td><td>0.336</td><td>25   </td><td>neg  </td></tr>\n",
       "\t<tr><td>7    </td><td>160  </td><td>54   </td><td>32   </td><td>175  </td><td>30.5 </td><td>0.588</td><td>39   </td><td>pos  </td></tr>\n",
       "\t<tr><td>4    </td><td>118  </td><td>70   </td><td> 0   </td><td>  0  </td><td>44.5 </td><td>0.904</td><td>26   </td><td>neg  </td></tr>\n",
       "</tbody>\n",
       "</table>\n"
      ],
      "text/latex": [
       "\\begin{tabular}{r|lllllllll}\n",
       " Pregnancies & Glucose & BloodPressure & SkinThickness & Insulin & BMI & DiabetesPedigreeFunction & Age & Outcome\\\\\n",
       "\\hline\n",
       "\t 4     & 110   & 66    &  0    &   0   & 31.9  & 0.471 & 29    & neg  \\\\\n",
       "\t 2     & 174   & 88    & 37    & 120   & 44.5  & 0.646 & 24    & pos  \\\\\n",
       "\t 0     & 141   & 84    & 26    &   0   & 32.4  & 0.433 & 22    & neg  \\\\\n",
       "\t 7     & 100   &  0    &  0    &   0   & 30.0  & 0.484 & 32    & pos  \\\\\n",
       "\t 7     & 196   & 90    &  0    &   0   & 39.8  & 0.451 & 41    & pos  \\\\\n",
       "\t 5     & 124   & 74    &  0    &   0   & 34.0  & 0.220 & 38    & pos  \\\\\n",
       "\t 4     &  95   & 64    &  0    &   0   & 32.0  & 0.161 & 31    & pos  \\\\\n",
       "\t 0     & 101   & 62    &  0    &   0   & 21.9  & 0.336 & 25    & neg  \\\\\n",
       "\t 7     & 160   & 54    & 32    & 175   & 30.5  & 0.588 & 39    & pos  \\\\\n",
       "\t 4     & 118   & 70    &  0    &   0   & 44.5  & 0.904 & 26    & neg  \\\\\n",
       "\\end{tabular}\n"
      ],
      "text/markdown": [
       "\n",
       "| Pregnancies | Glucose | BloodPressure | SkinThickness | Insulin | BMI | DiabetesPedigreeFunction | Age | Outcome |\n",
       "|---|---|---|---|---|---|---|---|---|\n",
       "| 4     | 110   | 66    |  0    |   0   | 31.9  | 0.471 | 29    | neg   |\n",
       "| 2     | 174   | 88    | 37    | 120   | 44.5  | 0.646 | 24    | pos   |\n",
       "| 0     | 141   | 84    | 26    |   0   | 32.4  | 0.433 | 22    | neg   |\n",
       "| 7     | 100   |  0    |  0    |   0   | 30.0  | 0.484 | 32    | pos   |\n",
       "| 7     | 196   | 90    |  0    |   0   | 39.8  | 0.451 | 41    | pos   |\n",
       "| 5     | 124   | 74    |  0    |   0   | 34.0  | 0.220 | 38    | pos   |\n",
       "| 4     |  95   | 64    |  0    |   0   | 32.0  | 0.161 | 31    | pos   |\n",
       "| 0     | 101   | 62    |  0    |   0   | 21.9  | 0.336 | 25    | neg   |\n",
       "| 7     | 160   | 54    | 32    | 175   | 30.5  | 0.588 | 39    | pos   |\n",
       "| 4     | 118   | 70    |  0    |   0   | 44.5  | 0.904 | 26    | neg   |\n",
       "\n"
      ],
      "text/plain": [
       "   Pregnancies Glucose BloodPressure SkinThickness Insulin BMI \n",
       "1  4           110     66             0              0     31.9\n",
       "2  2           174     88            37            120     44.5\n",
       "3  0           141     84            26              0     32.4\n",
       "4  7           100      0             0              0     30.0\n",
       "5  7           196     90             0              0     39.8\n",
       "6  5           124     74             0              0     34.0\n",
       "7  4            95     64             0              0     32.0\n",
       "8  0           101     62             0              0     21.9\n",
       "9  7           160     54            32            175     30.5\n",
       "10 4           118     70             0              0     44.5\n",
       "   DiabetesPedigreeFunction Age Outcome\n",
       "1  0.471                    29  neg    \n",
       "2  0.646                    24  pos    \n",
       "3  0.433                    22  neg    \n",
       "4  0.484                    32  pos    \n",
       "5  0.451                    41  pos    \n",
       "6  0.220                    38  pos    \n",
       "7  0.161                    31  pos    \n",
       "8  0.336                    25  neg    \n",
       "9  0.588                    39  pos    \n",
       "10 0.904                    26  neg    "
      ]
     },
     "metadata": {},
     "output_type": "display_data"
    }
   ],
   "source": [
    "set.seed(123)\n",
    "training.samples = pima.data_balanced_both$Outcome %>%\n",
    "    createDataPartition(p = 0.8, list = FALSE) # 80% for building a predictive model and test set 20% for evaluating the model\n",
    "train.data = pima.data_balanced_both[training.samples, ]\n",
    "test.data = pima.data_balanced_both[-training.samples, ]\n",
    "\n",
    "sample_n(pima.data_balanced_both, 10) # sample of dataset"
   ]
  },
  {
   "cell_type": "markdown",
   "metadata": {},
   "source": [
    "# Stepwise Logistic Regression"
   ]
  },
  {
   "cell_type": "code",
   "execution_count": 7,
   "metadata": {},
   "outputs": [
    {
     "data": {
      "text/html": [
       "<dl class=dl-horizontal>\n",
       "\t<dt>(Intercept)</dt>\n",
       "\t\t<dd>-8.15553558674255</dd>\n",
       "\t<dt>Pregnancies</dt>\n",
       "\t\t<dd>0.184603103555259</dd>\n",
       "\t<dt>Glucose</dt>\n",
       "\t\t<dd>0.034519038713909</dd>\n",
       "\t<dt>BloodPressure</dt>\n",
       "\t\t<dd>-0.0150304028907453</dd>\n",
       "\t<dt>SkinThickness</dt>\n",
       "\t\t<dd>-0.000731749321360524</dd>\n",
       "\t<dt>Insulin</dt>\n",
       "\t\t<dd>-0.000113189484343089</dd>\n",
       "\t<dt>BMI</dt>\n",
       "\t\t<dd>0.0940235084276397</dd>\n",
       "\t<dt>DiabetesPedigreeFunction</dt>\n",
       "\t\t<dd>1.2900672010897</dd>\n",
       "\t<dt>Age</dt>\n",
       "\t\t<dd>0.0112007230201895</dd>\n",
       "</dl>\n"
      ],
      "text/latex": [
       "\\begin{description*}\n",
       "\\item[(Intercept)] -8.15553558674255\n",
       "\\item[Pregnancies] 0.184603103555259\n",
       "\\item[Glucose] 0.034519038713909\n",
       "\\item[BloodPressure] -0.0150304028907453\n",
       "\\item[SkinThickness] -0.000731749321360524\n",
       "\\item[Insulin] -0.000113189484343089\n",
       "\\item[BMI] 0.0940235084276397\n",
       "\\item[DiabetesPedigreeFunction] 1.2900672010897\n",
       "\\item[Age] 0.0112007230201895\n",
       "\\end{description*}\n"
      ],
      "text/markdown": [
       "(Intercept)\n",
       ":   -8.15553558674255Pregnancies\n",
       ":   0.184603103555259Glucose\n",
       ":   0.034519038713909BloodPressure\n",
       ":   -0.0150304028907453SkinThickness\n",
       ":   -0.000731749321360524Insulin\n",
       ":   -0.000113189484343089BMI\n",
       ":   0.0940235084276397DiabetesPedigreeFunction\n",
       ":   1.2900672010897Age\n",
       ":   0.0112007230201895\n",
       "\n"
      ],
      "text/plain": [
       "             (Intercept)              Pregnancies                  Glucose \n",
       "           -8.1555355867             0.1846031036             0.0345190387 \n",
       "           BloodPressure            SkinThickness                  Insulin \n",
       "           -0.0150304029            -0.0007317493            -0.0001131895 \n",
       "                     BMI DiabetesPedigreeFunction                      Age \n",
       "            0.0940235084             1.2900672011             0.0112007230 "
      ]
     },
     "metadata": {},
     "output_type": "display_data"
    },
    {
     "data": {
      "text/plain": [
       "\n",
       "Call:\n",
       "glm(formula = Outcome ~ ., family = binomial, data = train.data)\n",
       "\n",
       "Deviance Residuals: \n",
       "    Min       1Q   Median       3Q      Max  \n",
       "-2.8628  -0.7692  -0.2679   0.7735   2.4315  \n",
       "\n",
       "Coefficients:\n",
       "                           Estimate Std. Error z value Pr(>|z|)    \n",
       "(Intercept)              -8.1555356  0.7856211 -10.381  < 2e-16 ***\n",
       "Pregnancies               0.1846031  0.0367799   5.019 5.19e-07 ***\n",
       "Glucose                   0.0345190  0.0041641   8.290  < 2e-16 ***\n",
       "BloodPressure            -0.0150304  0.0058920  -2.551 0.010742 *  \n",
       "SkinThickness            -0.0007317  0.0079250  -0.092 0.926432    \n",
       "Insulin                  -0.0001132  0.0010376  -0.109 0.913135    \n",
       "BMI                       0.0940235  0.0156421   6.011 1.84e-09 ***\n",
       "DiabetesPedigreeFunction  1.2900672  0.3642532   3.542 0.000398 ***\n",
       "Age                       0.0112007  0.0105724   1.059 0.289404    \n",
       "---\n",
       "Signif. codes:  0 '***' 0.001 '**' 0.01 '*' 0.05 '.' 0.1 ' ' 1\n",
       "\n",
       "(Dispersion parameter for binomial family taken to be 1)\n",
       "\n",
       "    Null deviance: 851.98  on 614  degrees of freedom\n",
       "Residual deviance: 593.53  on 606  degrees of freedom\n",
       "AIC: 611.53\n",
       "\n",
       "Number of Fisher Scoring iterations: 5\n"
      ]
     },
     "metadata": {},
     "output_type": "display_data"
    }
   ],
   "source": [
    "full.model = glm(Outcome ~., data = train.data, family = binomial)\n",
    "coef(full.model) # logistic regression model produced, showing coefficients\n",
    "summary(full.model)"
   ]
  },
  {
   "cell_type": "code",
   "execution_count": 8,
   "metadata": {},
   "outputs": [
    {
     "data": {
      "text/html": [
       "0.751633986928105"
      ],
      "text/latex": [
       "0.751633986928105"
      ],
      "text/markdown": [
       "0.751633986928105"
      ],
      "text/plain": [
       "[1] 0.751634"
      ]
     },
     "metadata": {},
     "output_type": "display_data"
    }
   ],
   "source": [
    "# Make predictions\n",
    "probabilities = full.model %>% predict(test.data, type = \"response\")\n",
    "predicted.classes = ifelse(probabilities > 0.5, \"pos\", \"neg\")\n",
    "# Model accuracy\n",
    "mean(predicted.classes==test.data$Outcome)"
   ]
  },
  {
   "cell_type": "code",
   "execution_count": 9,
   "metadata": {},
   "outputs": [
    {
     "data": {
      "text/html": [
       "<dl class=dl-horizontal>\n",
       "\t<dt>(Intercept)</dt>\n",
       "\t\t<dd>-7.96838889413016</dd>\n",
       "\t<dt>Pregnancies</dt>\n",
       "\t\t<dd>0.204393725972074</dd>\n",
       "\t<dt>Glucose</dt>\n",
       "\t\t<dd>0.0351744247379764</dd>\n",
       "\t<dt>BloodPressure</dt>\n",
       "\t\t<dd>-0.0142786883859061</dd>\n",
       "\t<dt>BMI</dt>\n",
       "\t\t<dd>0.0927365649074917</dd>\n",
       "\t<dt>DiabetesPedigreeFunction</dt>\n",
       "\t\t<dd>1.28612419440219</dd>\n",
       "</dl>\n"
      ],
      "text/latex": [
       "\\begin{description*}\n",
       "\\item[(Intercept)] -7.96838889413016\n",
       "\\item[Pregnancies] 0.204393725972074\n",
       "\\item[Glucose] 0.0351744247379764\n",
       "\\item[BloodPressure] -0.0142786883859061\n",
       "\\item[BMI] 0.0927365649074917\n",
       "\\item[DiabetesPedigreeFunction] 1.28612419440219\n",
       "\\end{description*}\n"
      ],
      "text/markdown": [
       "(Intercept)\n",
       ":   -7.96838889413016Pregnancies\n",
       ":   0.204393725972074Glucose\n",
       ":   0.0351744247379764BloodPressure\n",
       ":   -0.0142786883859061BMI\n",
       ":   0.0927365649074917DiabetesPedigreeFunction\n",
       ":   1.28612419440219\n",
       "\n"
      ],
      "text/plain": [
       "             (Intercept)              Pregnancies                  Glucose \n",
       "             -7.96838889               0.20439373               0.03517442 \n",
       "           BloodPressure                      BMI DiabetesPedigreeFunction \n",
       "             -0.01427869               0.09273656               1.28612419 "
      ]
     },
     "metadata": {},
     "output_type": "display_data"
    },
    {
     "data": {
      "text/plain": [
       "\n",
       "Call:\n",
       "glm(formula = Outcome ~ Pregnancies + Glucose + BloodPressure + \n",
       "    BMI + DiabetesPedigreeFunction, family = binomial, data = train.data)\n",
       "\n",
       "Deviance Residuals: \n",
       "    Min       1Q   Median       3Q      Max  \n",
       "-2.8402  -0.7819  -0.2658   0.7826   2.4726  \n",
       "\n",
       "Coefficients:\n",
       "                          Estimate Std. Error z value Pr(>|z|)    \n",
       "(Intercept)              -7.968389   0.757820 -10.515  < 2e-16 ***\n",
       "Pregnancies               0.204394   0.032401   6.308 2.82e-10 ***\n",
       "Glucose                   0.035174   0.003840   9.160  < 2e-16 ***\n",
       "BloodPressure            -0.014279   0.005777  -2.472 0.013449 *  \n",
       "BMI                       0.092737   0.014720   6.300 2.97e-10 ***\n",
       "DiabetesPedigreeFunction  1.286124   0.357574   3.597 0.000322 ***\n",
       "---\n",
       "Signif. codes:  0 '***' 0.001 '**' 0.01 '*' 0.05 '.' 0.1 ' ' 1\n",
       "\n",
       "(Dispersion parameter for binomial family taken to be 1)\n",
       "\n",
       "    Null deviance: 851.98  on 614  degrees of freedom\n",
       "Residual deviance: 594.77  on 609  degrees of freedom\n",
       "AIC: 606.77\n",
       "\n",
       "Number of Fisher Scoring iterations: 5\n"
      ]
     },
     "metadata": {},
     "output_type": "display_data"
    }
   ],
   "source": [
    "step.model = full.model %>% stepAIC(trace = FALSE)\n",
    "coef(step.model) # new logistic regression model produced, showing coefficients\n",
    "summary(step.model)"
   ]
  },
  {
   "cell_type": "code",
   "execution_count": 10,
   "metadata": {},
   "outputs": [
    {
     "data": {
      "text/html": [
       "0.758169934640523"
      ],
      "text/latex": [
       "0.758169934640523"
      ],
      "text/markdown": [
       "0.758169934640523"
      ],
      "text/plain": [
       "[1] 0.7581699"
      ]
     },
     "metadata": {},
     "output_type": "display_data"
    }
   ],
   "source": [
    "# predictions\n",
    "probabilities = predict(step.model, test.data, type = \"response\")\n",
    "predicted.classes = ifelse(probabilities > 0.5, \"pos\", \"neg\")\n",
    "# Prediction accuracy\n",
    "observed.classes = test.data$Outcome\n",
    "mean(predicted.classes == observed.classes)"
   ]
  },
  {
   "cell_type": "markdown",
   "metadata": {},
   "source": [
    "# Splitting new dataset"
   ]
  },
  {
   "cell_type": "code",
   "execution_count": 11,
   "metadata": {},
   "outputs": [
    {
     "data": {
      "text/html": [
       "<table>\n",
       "<thead><tr><th scope=col>Pregnancies</th><th scope=col>Glucose</th><th scope=col>BloodPressure</th><th scope=col>BMI</th><th scope=col>DiabetesPedigreeFunction</th><th scope=col>Outcome</th></tr></thead>\n",
       "<tbody>\n",
       "\t<tr><td>5    </td><td>116  </td><td>74   </td><td>32.3 </td><td>0.660</td><td>pos  </td></tr>\n",
       "\t<tr><td>1    </td><td>109  </td><td>58   </td><td>28.5 </td><td>0.219</td><td>neg  </td></tr>\n",
       "\t<tr><td>3    </td><td>124  </td><td>80   </td><td>33.2 </td><td>0.305</td><td>neg  </td></tr>\n",
       "</tbody>\n",
       "</table>\n"
      ],
      "text/latex": [
       "\\begin{tabular}{r|llllll}\n",
       " Pregnancies & Glucose & BloodPressure & BMI & DiabetesPedigreeFunction & Outcome\\\\\n",
       "\\hline\n",
       "\t 5     & 116   & 74    & 32.3  & 0.660 & pos  \\\\\n",
       "\t 1     & 109   & 58    & 28.5  & 0.219 & neg  \\\\\n",
       "\t 3     & 124   & 80    & 33.2  & 0.305 & neg  \\\\\n",
       "\\end{tabular}\n"
      ],
      "text/markdown": [
       "\n",
       "| Pregnancies | Glucose | BloodPressure | BMI | DiabetesPedigreeFunction | Outcome |\n",
       "|---|---|---|---|---|---|\n",
       "| 5     | 116   | 74    | 32.3  | 0.660 | pos   |\n",
       "| 1     | 109   | 58    | 28.5  | 0.219 | neg   |\n",
       "| 3     | 124   | 80    | 33.2  | 0.305 | neg   |\n",
       "\n"
      ],
      "text/plain": [
       "  Pregnancies Glucose BloodPressure BMI  DiabetesPedigreeFunction Outcome\n",
       "1 5           116     74            32.3 0.660                    pos    \n",
       "2 1           109     58            28.5 0.219                    neg    \n",
       "3 3           124     80            33.2 0.305                    neg    "
      ]
     },
     "metadata": {},
     "output_type": "display_data"
    }
   ],
   "source": [
    "# creating new dataset with reduced features and splitting the new dataset\n",
    "pima.data_stepwise = dplyr::select(pima.data_balanced_both, -SkinThickness, -Age, -Insulin) # removing features\n",
    "pima.data_stepwise$Outcome %<>% factor # identifies Outcome feature as binary \n",
    "sample_n(pima.data_stepwise, 3) # sample of dataset with less features\n",
    "\n",
    "# Split the reduced feature dataset into training and test set\n",
    "set.seed(123)\n",
    "training.samples = pima.data_stepwise$Outcome %>%\n",
    "    createDataPartition(p = 0.8, list = FALSE)\n",
    "train.data = pima.data_stepwise[training.samples, ]\n",
    "test.data = pima.data_stepwise[-training.samples, ]\n",
    "\n",
    "# Estimate preprocessing parameters\n",
    "preproc.param = train.data %>% \n",
    "  preProcess(method = c(\"center\", \"scale\")) # scaling standardisation\n",
    "\n",
    "# Transform the data using the estimated parameters\n",
    "train.transformed = preproc.param %>% predict(train.data)\n",
    "test.transformed = preproc.param %>% predict(test.data)"
   ]
  },
  {
   "cell_type": "markdown",
   "metadata": {},
   "source": [
    "# LDA"
   ]
  },
  {
   "cell_type": "code",
   "execution_count": 12,
   "metadata": {},
   "outputs": [
    {
     "data": {
      "text/html": [
       "0.758169934640523"
      ],
      "text/latex": [
       "0.758169934640523"
      ],
      "text/markdown": [
       "0.758169934640523"
      ],
      "text/plain": [
       "[1] 0.7581699"
      ]
     },
     "metadata": {},
     "output_type": "display_data"
    },
    {
     "data": {
      "text/html": [
       "0.241830065359477"
      ],
      "text/latex": [
       "0.241830065359477"
      ],
      "text/markdown": [
       "0.241830065359477"
      ],
      "text/plain": [
       "[1] 0.2418301"
      ]
     },
     "metadata": {},
     "output_type": "display_data"
    },
    {
     "data": {
      "text/plain": [
       "Call:\n",
       "lda(Outcome ~ ., data = train.transformed)\n",
       "\n",
       "Prior probabilities of groups:\n",
       "      neg       pos \n",
       "0.5154472 0.4845528 \n",
       "\n",
       "Group means:\n",
       "    Pregnancies    Glucose BloodPressure        BMI DiabetesPedigreeFunction\n",
       "neg  -0.2856646 -0.4607561    -0.0976155 -0.3106688               -0.1901460\n",
       "pos   0.3038781  0.4901332     0.1038393  0.3304765                0.2022695\n",
       "\n",
       "Coefficients of linear discriminants:\n",
       "                                LD1\n",
       "Pregnancies               0.4991982\n",
       "Glucose                   0.8103430\n",
       "BloodPressure            -0.1835803\n",
       "BMI                       0.5117278\n",
       "DiabetesPedigreeFunction  0.2451869"
      ]
     },
     "metadata": {},
     "output_type": "display_data"
    }
   ],
   "source": [
    "# fit the LDA model on the training set and make predictions on the test data\n",
    "library(MASS)\n",
    "# Fit LDA\n",
    "fit = lda(Outcome ~., data = train.transformed)\n",
    "\n",
    "# Make predictions on the test data\n",
    "predictions = predict(fit, test.transformed)\n",
    "prediction.probabilities = predictions$posterior[,2]\n",
    "predicted.classes = predictions$class\n",
    "observed.classes = test.transformed$Outcome\n",
    "\n",
    "# accuracy\n",
    "accuracy = mean(observed.classes == predicted.classes)\n",
    "accuracy\n",
    "\n",
    "error = mean(observed.classes != predicted.classes)\n",
    "error\n",
    "\n",
    "fit"
   ]
  },
  {
   "cell_type": "code",
   "execution_count": 13,
   "metadata": {
    "scrolled": false
   },
   "outputs": [
    {
     "data": {
      "text/plain": [
       "                predicted.classes\n",
       "observed.classes neg pos\n",
       "             neg  69  10\n",
       "             pos  27  47"
      ]
     },
     "metadata": {},
     "output_type": "display_data"
    },
    {
     "data": {
      "text/plain": [
       "                predicted.classes\n",
       "observed.classes   neg   pos\n",
       "             neg 0.451 0.065\n",
       "             pos 0.176 0.307"
      ]
     },
     "metadata": {},
     "output_type": "display_data"
    },
    {
     "data": {
      "text/plain": [
       "Confusion Matrix and Statistics\n",
       "\n",
       "          Reference\n",
       "Prediction neg pos\n",
       "       neg  69  27\n",
       "       pos  10  47\n",
       "                                          \n",
       "               Accuracy : 0.7582          \n",
       "                 95% CI : (0.6824, 0.8237)\n",
       "    No Information Rate : 0.5163          \n",
       "    P-Value [Acc > NIR] : 6.867e-10       \n",
       "                                          \n",
       "                  Kappa : 0.5123          \n",
       "                                          \n",
       " Mcnemar's Test P-Value : 0.008529        \n",
       "                                          \n",
       "            Sensitivity : 0.8734          \n",
       "            Specificity : 0.6351          \n",
       "         Pos Pred Value : 0.7188          \n",
       "         Neg Pred Value : 0.8246          \n",
       "             Prevalence : 0.5163          \n",
       "         Detection Rate : 0.4510          \n",
       "   Detection Prevalence : 0.6275          \n",
       "      Balanced Accuracy : 0.7543          \n",
       "                                          \n",
       "       'Positive' Class : neg             \n",
       "                                          "
      ]
     },
     "metadata": {},
     "output_type": "display_data"
    }
   ],
   "source": [
    "# confusion matrix\n",
    "\n",
    "# Confusion matrix, number of cases\n",
    "table(observed.classes, predicted.classes)\n",
    "\n",
    "# Confusion matrix, proportion of cases\n",
    "table(observed.classes, predicted.classes) %>%\n",
    "prop.table() %>% round(digits = 3)\n",
    "\n",
    "confusionMatrix(predicted.classes,as.factor(observed.classes))"
   ]
  },
  {
   "cell_type": "code",
   "execution_count": 14,
   "metadata": {
    "scrolled": false
   },
   "outputs": [
    {
     "name": "stderr",
     "output_type": "stream",
     "text": [
      "Setting levels: control = neg, case = pos\n",
      "\n",
      "Setting direction: controls < cases\n",
      "\n",
      "Warning message:\n",
      "\"`data_frame()` is deprecated as of tibble 1.1.0.\n",
      "Please use `tibble()` instead.\n",
      "\u001b[90mThis warning is displayed once every 8 hours.\u001b[39m\n",
      "\u001b[90mCall `lifecycle::last_warnings()` to see where this warning was generated.\u001b[39m\"\n"
     ]
    },
    {
     "data": {
      "text/html": [
       "<table>\n",
       "<thead><tr><th scope=col>thresholds</th><th scope=col>sensitivity</th><th scope=col>specificity</th></tr></thead>\n",
       "<tbody>\n",
       "\t<tr><td>0.3012987</td><td>0.7972973</td><td>0.6075949</td></tr>\n",
       "\t<tr><td>0.3036795</td><td>0.7837838</td><td>0.6075949</td></tr>\n",
       "\t<tr><td>0.3055761</td><td>0.7837838</td><td>0.6202532</td></tr>\n",
       "\t<tr><td>0.3074062</td><td>0.7837838</td><td>0.6455696</td></tr>\n",
       "\t<tr><td>0.3109096</td><td>0.7837838</td><td>0.6582278</td></tr>\n",
       "\t<tr><td>0.3178498</td><td>0.7837838</td><td>0.6708861</td></tr>\n",
       "\t<tr><td>0.3232483</td><td>0.7837838</td><td>0.6835443</td></tr>\n",
       "\t<tr><td>0.3288257</td><td>0.7837838</td><td>0.6962025</td></tr>\n",
       "\t<tr><td>0.3335854</td><td>0.7702703</td><td>0.6962025</td></tr>\n",
       "\t<tr><td>0.3346967</td><td>0.7702703</td><td>0.7088608</td></tr>\n",
       "\t<tr><td>0.3382468</td><td>0.7702703</td><td>0.7215190</td></tr>\n",
       "\t<tr><td>0.3421606</td><td>0.7702703</td><td>0.7341772</td></tr>\n",
       "\t<tr><td>0.3445596</td><td>0.7702703</td><td>0.7468354</td></tr>\n",
       "\t<tr><td>0.3505318</td><td>0.7702703</td><td>0.7594937</td></tr>\n",
       "\t<tr><td>0.3609849</td><td>0.7702703</td><td>0.7721519</td></tr>\n",
       "\t<tr><td>0.3757856</td><td>0.7702703</td><td>0.7848101</td></tr>\n",
       "\t<tr><td>0.3921758</td><td>0.7702703</td><td>0.7974684</td></tr>\n",
       "\t<tr><td>0.4037535</td><td>0.7567568</td><td>0.7974684</td></tr>\n",
       "\t<tr><td>0.4183415</td><td>0.7297297</td><td>0.7974684</td></tr>\n",
       "\t<tr><td>0.4339787</td><td>0.7027027</td><td>0.7974684</td></tr>\n",
       "\t<tr><td>0.4391719</td><td>0.7027027</td><td>0.8101266</td></tr>\n",
       "\t<tr><td>0.4413507</td><td>0.7027027</td><td>0.8227848</td></tr>\n",
       "\t<tr><td>0.4447923</td><td>0.7027027</td><td>0.8354430</td></tr>\n",
       "\t<tr><td>0.4485548</td><td>0.7027027</td><td>0.8481013</td></tr>\n",
       "\t<tr><td>0.4514313</td><td>0.7027027</td><td>0.8607595</td></tr>\n",
       "\t<tr><td>0.4553230</td><td>0.6756757</td><td>0.8607595</td></tr>\n",
       "\t<tr><td>0.4616589</td><td>0.6621622</td><td>0.8607595</td></tr>\n",
       "\t<tr><td>0.4687463</td><td>0.6486486</td><td>0.8607595</td></tr>\n",
       "\t<tr><td>0.4776659</td><td>0.6486486</td><td>0.8734177</td></tr>\n",
       "\t<tr><td>0.5063738</td><td>0.6351351</td><td>0.8734177</td></tr>\n",
       "\t<tr><td>...</td><td>...</td><td>...</td></tr>\n",
       "\t<tr><td>0.7765235 </td><td>0.39189189</td><td>0.9620253 </td></tr>\n",
       "\t<tr><td>0.7858229 </td><td>0.37837838</td><td>0.9620253 </td></tr>\n",
       "\t<tr><td>0.7937019 </td><td>0.36486486</td><td>0.9620253 </td></tr>\n",
       "\t<tr><td>0.8024502 </td><td>0.36486486</td><td>0.9746835 </td></tr>\n",
       "\t<tr><td>0.8178221 </td><td>0.35135135</td><td>0.9746835 </td></tr>\n",
       "\t<tr><td>0.8296908 </td><td>0.33783784</td><td>0.9746835 </td></tr>\n",
       "\t<tr><td>0.8362697 </td><td>0.33783784</td><td>0.9873418 </td></tr>\n",
       "\t<tr><td>0.8453630 </td><td>0.33783784</td><td>1.0000000 </td></tr>\n",
       "\t<tr><td>0.8510838 </td><td>0.32432432</td><td>1.0000000 </td></tr>\n",
       "\t<tr><td>0.8605155 </td><td>0.29729730</td><td>1.0000000 </td></tr>\n",
       "\t<tr><td>0.8692403 </td><td>0.28378378</td><td>1.0000000 </td></tr>\n",
       "\t<tr><td>0.8713763 </td><td>0.27027027</td><td>1.0000000 </td></tr>\n",
       "\t<tr><td>0.8764478 </td><td>0.25675676</td><td>1.0000000 </td></tr>\n",
       "\t<tr><td>0.8848980 </td><td>0.24324324</td><td>1.0000000 </td></tr>\n",
       "\t<tr><td>0.8897544 </td><td>0.22972973</td><td>1.0000000 </td></tr>\n",
       "\t<tr><td>0.8915782 </td><td>0.20270270</td><td>1.0000000 </td></tr>\n",
       "\t<tr><td>0.8935965 </td><td>0.18918919</td><td>1.0000000 </td></tr>\n",
       "\t<tr><td>0.8991869 </td><td>0.17567568</td><td>1.0000000 </td></tr>\n",
       "\t<tr><td>0.9062702 </td><td>0.16216216</td><td>1.0000000 </td></tr>\n",
       "\t<tr><td>0.9141072 </td><td>0.14864865</td><td>1.0000000 </td></tr>\n",
       "\t<tr><td>0.9196444 </td><td>0.13513514</td><td>1.0000000 </td></tr>\n",
       "\t<tr><td>0.9229558 </td><td>0.10810811</td><td>1.0000000 </td></tr>\n",
       "\t<tr><td>0.9281799 </td><td>0.09459459</td><td>1.0000000 </td></tr>\n",
       "\t<tr><td>0.9385114 </td><td>0.08108108</td><td>1.0000000 </td></tr>\n",
       "\t<tr><td>0.9480593 </td><td>0.06756757</td><td>1.0000000 </td></tr>\n",
       "\t<tr><td>0.9589221 </td><td>0.05405405</td><td>1.0000000 </td></tr>\n",
       "\t<tr><td>0.9678997 </td><td>0.04054054</td><td>1.0000000 </td></tr>\n",
       "\t<tr><td>0.9702672 </td><td>0.02702703</td><td>1.0000000 </td></tr>\n",
       "\t<tr><td>0.9810770 </td><td>0.01351351</td><td>1.0000000 </td></tr>\n",
       "\t<tr><td>      Inf </td><td>0.00000000</td><td>1.0000000 </td></tr>\n",
       "</tbody>\n",
       "</table>\n"
      ],
      "text/latex": [
       "\\begin{tabular}{r|lll}\n",
       " thresholds & sensitivity & specificity\\\\\n",
       "\\hline\n",
       "\t 0.3012987 & 0.7972973 & 0.6075949\\\\\n",
       "\t 0.3036795 & 0.7837838 & 0.6075949\\\\\n",
       "\t 0.3055761 & 0.7837838 & 0.6202532\\\\\n",
       "\t 0.3074062 & 0.7837838 & 0.6455696\\\\\n",
       "\t 0.3109096 & 0.7837838 & 0.6582278\\\\\n",
       "\t 0.3178498 & 0.7837838 & 0.6708861\\\\\n",
       "\t 0.3232483 & 0.7837838 & 0.6835443\\\\\n",
       "\t 0.3288257 & 0.7837838 & 0.6962025\\\\\n",
       "\t 0.3335854 & 0.7702703 & 0.6962025\\\\\n",
       "\t 0.3346967 & 0.7702703 & 0.7088608\\\\\n",
       "\t 0.3382468 & 0.7702703 & 0.7215190\\\\\n",
       "\t 0.3421606 & 0.7702703 & 0.7341772\\\\\n",
       "\t 0.3445596 & 0.7702703 & 0.7468354\\\\\n",
       "\t 0.3505318 & 0.7702703 & 0.7594937\\\\\n",
       "\t 0.3609849 & 0.7702703 & 0.7721519\\\\\n",
       "\t 0.3757856 & 0.7702703 & 0.7848101\\\\\n",
       "\t 0.3921758 & 0.7702703 & 0.7974684\\\\\n",
       "\t 0.4037535 & 0.7567568 & 0.7974684\\\\\n",
       "\t 0.4183415 & 0.7297297 & 0.7974684\\\\\n",
       "\t 0.4339787 & 0.7027027 & 0.7974684\\\\\n",
       "\t 0.4391719 & 0.7027027 & 0.8101266\\\\\n",
       "\t 0.4413507 & 0.7027027 & 0.8227848\\\\\n",
       "\t 0.4447923 & 0.7027027 & 0.8354430\\\\\n",
       "\t 0.4485548 & 0.7027027 & 0.8481013\\\\\n",
       "\t 0.4514313 & 0.7027027 & 0.8607595\\\\\n",
       "\t 0.4553230 & 0.6756757 & 0.8607595\\\\\n",
       "\t 0.4616589 & 0.6621622 & 0.8607595\\\\\n",
       "\t 0.4687463 & 0.6486486 & 0.8607595\\\\\n",
       "\t 0.4776659 & 0.6486486 & 0.8734177\\\\\n",
       "\t 0.5063738 & 0.6351351 & 0.8734177\\\\\n",
       "\t ... & ... & ...\\\\\n",
       "\t 0.7765235  & 0.39189189 & 0.9620253 \\\\\n",
       "\t 0.7858229  & 0.37837838 & 0.9620253 \\\\\n",
       "\t 0.7937019  & 0.36486486 & 0.9620253 \\\\\n",
       "\t 0.8024502  & 0.36486486 & 0.9746835 \\\\\n",
       "\t 0.8178221  & 0.35135135 & 0.9746835 \\\\\n",
       "\t 0.8296908  & 0.33783784 & 0.9746835 \\\\\n",
       "\t 0.8362697  & 0.33783784 & 0.9873418 \\\\\n",
       "\t 0.8453630  & 0.33783784 & 1.0000000 \\\\\n",
       "\t 0.8510838  & 0.32432432 & 1.0000000 \\\\\n",
       "\t 0.8605155  & 0.29729730 & 1.0000000 \\\\\n",
       "\t 0.8692403  & 0.28378378 & 1.0000000 \\\\\n",
       "\t 0.8713763  & 0.27027027 & 1.0000000 \\\\\n",
       "\t 0.8764478  & 0.25675676 & 1.0000000 \\\\\n",
       "\t 0.8848980  & 0.24324324 & 1.0000000 \\\\\n",
       "\t 0.8897544  & 0.22972973 & 1.0000000 \\\\\n",
       "\t 0.8915782  & 0.20270270 & 1.0000000 \\\\\n",
       "\t 0.8935965  & 0.18918919 & 1.0000000 \\\\\n",
       "\t 0.8991869  & 0.17567568 & 1.0000000 \\\\\n",
       "\t 0.9062702  & 0.16216216 & 1.0000000 \\\\\n",
       "\t 0.9141072  & 0.14864865 & 1.0000000 \\\\\n",
       "\t 0.9196444  & 0.13513514 & 1.0000000 \\\\\n",
       "\t 0.9229558  & 0.10810811 & 1.0000000 \\\\\n",
       "\t 0.9281799  & 0.09459459 & 1.0000000 \\\\\n",
       "\t 0.9385114  & 0.08108108 & 1.0000000 \\\\\n",
       "\t 0.9480593  & 0.06756757 & 1.0000000 \\\\\n",
       "\t 0.9589221  & 0.05405405 & 1.0000000 \\\\\n",
       "\t 0.9678997  & 0.04054054 & 1.0000000 \\\\\n",
       "\t 0.9702672  & 0.02702703 & 1.0000000 \\\\\n",
       "\t 0.9810770  & 0.01351351 & 1.0000000 \\\\\n",
       "\t       Inf  & 0.00000000 & 1.0000000 \\\\\n",
       "\\end{tabular}\n"
      ],
      "text/markdown": [
       "\n",
       "| thresholds | sensitivity | specificity |\n",
       "|---|---|---|\n",
       "| 0.3012987 | 0.7972973 | 0.6075949 |\n",
       "| 0.3036795 | 0.7837838 | 0.6075949 |\n",
       "| 0.3055761 | 0.7837838 | 0.6202532 |\n",
       "| 0.3074062 | 0.7837838 | 0.6455696 |\n",
       "| 0.3109096 | 0.7837838 | 0.6582278 |\n",
       "| 0.3178498 | 0.7837838 | 0.6708861 |\n",
       "| 0.3232483 | 0.7837838 | 0.6835443 |\n",
       "| 0.3288257 | 0.7837838 | 0.6962025 |\n",
       "| 0.3335854 | 0.7702703 | 0.6962025 |\n",
       "| 0.3346967 | 0.7702703 | 0.7088608 |\n",
       "| 0.3382468 | 0.7702703 | 0.7215190 |\n",
       "| 0.3421606 | 0.7702703 | 0.7341772 |\n",
       "| 0.3445596 | 0.7702703 | 0.7468354 |\n",
       "| 0.3505318 | 0.7702703 | 0.7594937 |\n",
       "| 0.3609849 | 0.7702703 | 0.7721519 |\n",
       "| 0.3757856 | 0.7702703 | 0.7848101 |\n",
       "| 0.3921758 | 0.7702703 | 0.7974684 |\n",
       "| 0.4037535 | 0.7567568 | 0.7974684 |\n",
       "| 0.4183415 | 0.7297297 | 0.7974684 |\n",
       "| 0.4339787 | 0.7027027 | 0.7974684 |\n",
       "| 0.4391719 | 0.7027027 | 0.8101266 |\n",
       "| 0.4413507 | 0.7027027 | 0.8227848 |\n",
       "| 0.4447923 | 0.7027027 | 0.8354430 |\n",
       "| 0.4485548 | 0.7027027 | 0.8481013 |\n",
       "| 0.4514313 | 0.7027027 | 0.8607595 |\n",
       "| 0.4553230 | 0.6756757 | 0.8607595 |\n",
       "| 0.4616589 | 0.6621622 | 0.8607595 |\n",
       "| 0.4687463 | 0.6486486 | 0.8607595 |\n",
       "| 0.4776659 | 0.6486486 | 0.8734177 |\n",
       "| 0.5063738 | 0.6351351 | 0.8734177 |\n",
       "| ... | ... | ... |\n",
       "| 0.7765235  | 0.39189189 | 0.9620253  |\n",
       "| 0.7858229  | 0.37837838 | 0.9620253  |\n",
       "| 0.7937019  | 0.36486486 | 0.9620253  |\n",
       "| 0.8024502  | 0.36486486 | 0.9746835  |\n",
       "| 0.8178221  | 0.35135135 | 0.9746835  |\n",
       "| 0.8296908  | 0.33783784 | 0.9746835  |\n",
       "| 0.8362697  | 0.33783784 | 0.9873418  |\n",
       "| 0.8453630  | 0.33783784 | 1.0000000  |\n",
       "| 0.8510838  | 0.32432432 | 1.0000000  |\n",
       "| 0.8605155  | 0.29729730 | 1.0000000  |\n",
       "| 0.8692403  | 0.28378378 | 1.0000000  |\n",
       "| 0.8713763  | 0.27027027 | 1.0000000  |\n",
       "| 0.8764478  | 0.25675676 | 1.0000000  |\n",
       "| 0.8848980  | 0.24324324 | 1.0000000  |\n",
       "| 0.8897544  | 0.22972973 | 1.0000000  |\n",
       "| 0.8915782  | 0.20270270 | 1.0000000  |\n",
       "| 0.8935965  | 0.18918919 | 1.0000000  |\n",
       "| 0.8991869  | 0.17567568 | 1.0000000  |\n",
       "| 0.9062702  | 0.16216216 | 1.0000000  |\n",
       "| 0.9141072  | 0.14864865 | 1.0000000  |\n",
       "| 0.9196444  | 0.13513514 | 1.0000000  |\n",
       "| 0.9229558  | 0.10810811 | 1.0000000  |\n",
       "| 0.9281799  | 0.09459459 | 1.0000000  |\n",
       "| 0.9385114  | 0.08108108 | 1.0000000  |\n",
       "| 0.9480593  | 0.06756757 | 1.0000000  |\n",
       "| 0.9589221  | 0.05405405 | 1.0000000  |\n",
       "| 0.9678997  | 0.04054054 | 1.0000000  |\n",
       "| 0.9702672  | 0.02702703 | 1.0000000  |\n",
       "| 0.9810770  | 0.01351351 | 1.0000000  |\n",
       "|       Inf  | 0.00000000 | 1.0000000  |\n",
       "\n"
      ],
      "text/plain": [
       "    thresholds sensitivity specificity\n",
       "1   0.3012987  0.7972973   0.6075949  \n",
       "2   0.3036795  0.7837838   0.6075949  \n",
       "3   0.3055761  0.7837838   0.6202532  \n",
       "4   0.3074062  0.7837838   0.6455696  \n",
       "5   0.3109096  0.7837838   0.6582278  \n",
       "6   0.3178498  0.7837838   0.6708861  \n",
       "7   0.3232483  0.7837838   0.6835443  \n",
       "8   0.3288257  0.7837838   0.6962025  \n",
       "9   0.3335854  0.7702703   0.6962025  \n",
       "10  0.3346967  0.7702703   0.7088608  \n",
       "11  0.3382468  0.7702703   0.7215190  \n",
       "12  0.3421606  0.7702703   0.7341772  \n",
       "13  0.3445596  0.7702703   0.7468354  \n",
       "14  0.3505318  0.7702703   0.7594937  \n",
       "15  0.3609849  0.7702703   0.7721519  \n",
       "16  0.3757856  0.7702703   0.7848101  \n",
       "17  0.3921758  0.7702703   0.7974684  \n",
       "18  0.4037535  0.7567568   0.7974684  \n",
       "19  0.4183415  0.7297297   0.7974684  \n",
       "20  0.4339787  0.7027027   0.7974684  \n",
       "21  0.4391719  0.7027027   0.8101266  \n",
       "22  0.4413507  0.7027027   0.8227848  \n",
       "23  0.4447923  0.7027027   0.8354430  \n",
       "24  0.4485548  0.7027027   0.8481013  \n",
       "25  0.4514313  0.7027027   0.8607595  \n",
       "26  0.4553230  0.6756757   0.8607595  \n",
       "27  0.4616589  0.6621622   0.8607595  \n",
       "28  0.4687463  0.6486486   0.8607595  \n",
       "29  0.4776659  0.6486486   0.8734177  \n",
       "30  0.5063738  0.6351351   0.8734177  \n",
       "... ...        ...         ...        \n",
       "53  0.7765235  0.39189189  0.9620253  \n",
       "54  0.7858229  0.37837838  0.9620253  \n",
       "55  0.7937019  0.36486486  0.9620253  \n",
       "56  0.8024502  0.36486486  0.9746835  \n",
       "57  0.8178221  0.35135135  0.9746835  \n",
       "58  0.8296908  0.33783784  0.9746835  \n",
       "59  0.8362697  0.33783784  0.9873418  \n",
       "60  0.8453630  0.33783784  1.0000000  \n",
       "61  0.8510838  0.32432432  1.0000000  \n",
       "62  0.8605155  0.29729730  1.0000000  \n",
       "63  0.8692403  0.28378378  1.0000000  \n",
       "64  0.8713763  0.27027027  1.0000000  \n",
       "65  0.8764478  0.25675676  1.0000000  \n",
       "66  0.8848980  0.24324324  1.0000000  \n",
       "67  0.8897544  0.22972973  1.0000000  \n",
       "68  0.8915782  0.20270270  1.0000000  \n",
       "69  0.8935965  0.18918919  1.0000000  \n",
       "70  0.8991869  0.17567568  1.0000000  \n",
       "71  0.9062702  0.16216216  1.0000000  \n",
       "72  0.9141072  0.14864865  1.0000000  \n",
       "73  0.9196444  0.13513514  1.0000000  \n",
       "74  0.9229558  0.10810811  1.0000000  \n",
       "75  0.9281799  0.09459459  1.0000000  \n",
       "76  0.9385114  0.08108108  1.0000000  \n",
       "77  0.9480593  0.06756757  1.0000000  \n",
       "78  0.9589221  0.05405405  1.0000000  \n",
       "79  0.9678997  0.04054054  1.0000000  \n",
       "80  0.9702672  0.02702703  1.0000000  \n",
       "81  0.9810770  0.01351351  1.0000000  \n",
       "82        Inf  0.00000000  1.0000000  "
      ]
     },
     "metadata": {},
     "output_type": "display_data"
    },
    {
     "data": {
      "image/png": "[encoded data removed]",
      "text/plain": [
       "plot without title"
      ]
     },
     "metadata": {
      "image/png": {
       "height": 420,
       "width": 420
      }
     },
     "output_type": "display_data"
    }
   ],
   "source": [
    "# ROC Curve\n",
    "res.roc = roc(observed.classes, prediction.probabilities)\n",
    "\n",
    "# Extracting results\n",
    "roc.data = data_frame(\n",
    "thresholds = res.roc$thresholds,\n",
    "sensitivity = res.roc$sensitivities,\n",
    "specificity = res.roc$specificities\n",
    ")\n",
    "# Get the probability threshold for specificity = 0.6\n",
    "roc.data %>% filter(specificity >= 0.6)\n",
    "\n",
    "# plot with best threshold with the highest sum sensitivity + specificity\n",
    "plot.roc(res.roc, print.auc = TRUE, print.thres = \"best\")"
   ]
  },
  {
   "cell_type": "markdown",
   "metadata": {},
   "source": [
    "# Decision Tree"
   ]
  },
  {
   "cell_type": "code",
   "execution_count": 15,
   "metadata": {
    "scrolled": false
   },
   "outputs": [
    {
     "data": {
      "text/html": [
       "<table>\n",
       "<thead><tr><th scope=col>cp</th></tr></thead>\n",
       "<tbody>\n",
       "\t<tr><td>0.01342282</td></tr>\n",
       "</tbody>\n",
       "</table>\n"
      ],
      "text/latex": [
       "\\begin{tabular}{r|l}\n",
       " cp\\\\\n",
       "\\hline\n",
       "\t 0.01342282\\\\\n",
       "\\end{tabular}\n"
      ],
      "text/markdown": [
       "\n",
       "| cp |\n",
       "|---|\n",
       "| 0.01342282 |\n",
       "\n"
      ],
      "text/plain": [
       "  cp        \n",
       "1 0.01342282"
      ]
     },
     "metadata": {},
     "output_type": "display_data"
    },
    {
     "data": {
      "image/png": "[encoded data removed]",
      "text/plain": [
       "plot without title"
      ]
     },
     "metadata": {
      "image/png": {
       "height": 420,
       "width": 420
      }
     },
     "output_type": "display_data"
    },
    {
     "data": {
      "text/plain": [
       "n= 615 \n",
       "\n",
       "node), split, n, loss, yval, (yprob)\n",
       "      * denotes terminal node\n",
       "\n",
       " 1) root 615 298 neg (0.51544715 0.48455285)  \n",
       "   2) Glucose< 0.4519475 422 141 neg (0.66587678 0.33412322)  \n",
       "     4) BMI< -0.7997321 102   5 neg (0.95098039 0.04901961) *\n",
       "     5) BMI>=-0.7997321 320 136 neg (0.57500000 0.42500000)  \n",
       "      10) Glucose< -1.008912 67  10 neg (0.85074627 0.14925373) *\n",
       "      11) Glucose>=-1.008912 253 126 neg (0.50197628 0.49802372)  \n",
       "        22) Pregnancies< 0.1338341 152  61 neg (0.59868421 0.40131579)  \n",
       "          44) DiabetesPedigreeFunction< 2.11025 145  54 neg (0.62758621 0.37241379) *\n",
       "          45) DiabetesPedigreeFunction>=2.11025 7   0 pos (0.00000000 1.00000000) *\n",
       "        23) Pregnancies>=0.1338341 101  36 pos (0.35643564 0.64356436)  \n",
       "          46) DiabetesPedigreeFunction< 0.2922951 70  34 neg (0.51428571 0.48571429)  \n",
       "            92) BMI< 0.7505372 63  27 neg (0.57142857 0.42857143) *\n",
       "            93) BMI>=0.7505372 7   0 pos (0.00000000 1.00000000) *\n",
       "          47) DiabetesPedigreeFunction>=0.2922951 31   0 pos (0.00000000 1.00000000) *\n",
       "   3) Glucose>=0.4519475 193  36 pos (0.18652850 0.81347150) *"
      ]
     },
     "metadata": {},
     "output_type": "display_data"
    },
    {
     "data": {
      "image/png": "[encoded data removed]",
      "text/plain": [
       "plot without title"
      ]
     },
     "metadata": {
      "image/png": {
       "height": 420,
       "width": 420
      }
     },
     "output_type": "display_data"
    }
   ],
   "source": [
    "# Pruned model\n",
    "\n",
    "set.seed(123)\n",
    "model2 = train(\n",
    "Outcome ~., data = train.transformed, method = \"rpart\",\n",
    "    # (Stackoverflow, 2017)\n",
    "trControl = trainControl(\"repeatedcv\", number = 10, repeats = 3), # to set up 10-fold cross validation\n",
    "tuneLength = 5) # specifies number of possible cp values to look at. \n",
    "# Complexity parameter (cp) places a penalty when there are too many splits in the tree\n",
    "\n",
    "\n",
    "# Plot model accuracy vs different cp's (complexity parameters)\n",
    "plot(model2)\n",
    "\n",
    "# optimal tuning parameter cp that maximises the cross-validation accuracy\n",
    "model2$bestTune\n",
    "\n",
    "# Plotting of final tree model\n",
    "par(xpd = NA) # Avoid clipping the text in some device\n",
    "plot(model2$finalModel)\n",
    "text(model2$finalModel, digits = 3)\n",
    "\n",
    "# fully grown tree showing all predictor variables in the data set.\n",
    "\n",
    "# Decision rules in the model\n",
    "model2$finalModel"
   ]
  },
  {
   "cell_type": "code",
   "execution_count": 16,
   "metadata": {},
   "outputs": [
    {
     "data": {
      "text/html": [
       "0.705882352941177"
      ],
      "text/latex": [
       "0.705882352941177"
      ],
      "text/markdown": [
       "0.705882352941177"
      ],
      "text/plain": [
       "[1] 0.7058824"
      ]
     },
     "metadata": {},
     "output_type": "display_data"
    },
    {
     "data": {
      "text/html": [
       "0.294117647058824"
      ],
      "text/latex": [
       "0.294117647058824"
      ],
      "text/markdown": [
       "0.294117647058824"
      ],
      "text/plain": [
       "[1] 0.2941176"
      ]
     },
     "metadata": {},
     "output_type": "display_data"
    }
   ],
   "source": [
    "observed.classes = test.transformed$Outcome\n",
    "\n",
    "# Predictions on test data\n",
    "predicted.classes = model2 %>% predict(test.transformed)\n",
    "\n",
    "# Accuracy\n",
    "mean(predicted.classes == test.transformed$Outcome)\n",
    "\n",
    "# Error\n",
    "error = mean(observed.classes != predicted.classes)\n",
    "error"
   ]
  },
  {
   "cell_type": "code",
   "execution_count": 17,
   "metadata": {},
   "outputs": [
    {
     "data": {
      "text/plain": [
       "                predicted.classes\n",
       "observed.classes neg pos\n",
       "             neg  72   7\n",
       "             pos  38  36"
      ]
     },
     "metadata": {},
     "output_type": "display_data"
    },
    {
     "data": {
      "text/plain": [
       "                predicted.classes\n",
       "observed.classes   neg   pos\n",
       "             neg 0.471 0.046\n",
       "             pos 0.248 0.235"
      ]
     },
     "metadata": {},
     "output_type": "display_data"
    },
    {
     "data": {
      "text/plain": [
       "Confusion Matrix and Statistics\n",
       "\n",
       "          Reference\n",
       "Prediction neg pos\n",
       "       neg  72  38\n",
       "       pos   7  36\n",
       "                                          \n",
       "               Accuracy : 0.7059          \n",
       "                 95% CI : (0.6269, 0.7767)\n",
       "    No Information Rate : 0.5163          \n",
       "    P-Value [Acc > NIR] : 1.408e-06       \n",
       "                                          \n",
       "                  Kappa : 0.4032          \n",
       "                                          \n",
       " Mcnemar's Test P-Value : 7.744e-06       \n",
       "                                          \n",
       "            Sensitivity : 0.9114          \n",
       "            Specificity : 0.4865          \n",
       "         Pos Pred Value : 0.6545          \n",
       "         Neg Pred Value : 0.8372          \n",
       "             Prevalence : 0.5163          \n",
       "         Detection Rate : 0.4706          \n",
       "   Detection Prevalence : 0.7190          \n",
       "      Balanced Accuracy : 0.6989          \n",
       "                                          \n",
       "       'Positive' Class : neg             \n",
       "                                          "
      ]
     },
     "metadata": {},
     "output_type": "display_data"
    }
   ],
   "source": [
    "# Confusion matrix, number of cases\n",
    "table(observed.classes, predicted.classes)\n",
    "\n",
    "# Confusion matrix, proportion of cases\n",
    "table(observed.classes, predicted.classes) %>%\n",
    "prop.table() %>% round(digits = 3)\n",
    "\n",
    "confusionMatrix(predicted.classes,as.factor(observed.classes))\n",
    "# (Stackoverflow, 2015)"
   ]
  },
  {
   "cell_type": "code",
   "execution_count": 18,
   "metadata": {},
   "outputs": [
    {
     "name": "stderr",
     "output_type": "stream",
     "text": [
      "Setting levels: control = neg, case = pos\n",
      "\n",
      "Setting direction: controls < cases\n",
      "\n"
     ]
    },
    {
     "data": {
      "text/html": [
       "<table>\n",
       "<thead><tr><th scope=col>thresholds</th><th scope=col>sensitivity</th><th scope=col>specificity</th></tr></thead>\n",
       "<tbody>\n",
       "\t<tr><td>1.5      </td><td>0.4864865</td><td>0.9113924</td></tr>\n",
       "\t<tr><td>Inf      </td><td>0.0000000</td><td>1.0000000</td></tr>\n",
       "</tbody>\n",
       "</table>\n"
      ],
      "text/latex": [
       "\\begin{tabular}{r|lll}\n",
       " thresholds & sensitivity & specificity\\\\\n",
       "\\hline\n",
       "\t 1.5       & 0.4864865 & 0.9113924\\\\\n",
       "\t Inf       & 0.0000000 & 1.0000000\\\\\n",
       "\\end{tabular}\n"
      ],
      "text/markdown": [
       "\n",
       "| thresholds | sensitivity | specificity |\n",
       "|---|---|---|\n",
       "| 1.5       | 0.4864865 | 0.9113924 |\n",
       "| Inf       | 0.0000000 | 1.0000000 |\n",
       "\n"
      ],
      "text/plain": [
       "  thresholds sensitivity specificity\n",
       "1 1.5        0.4864865   0.9113924  \n",
       "2 Inf        0.0000000   1.0000000  "
      ]
     },
     "metadata": {},
     "output_type": "display_data"
    },
    {
     "data": {
      "image/png": "[encoded data removed]",
      "text/plain": [
       "plot without title"
      ]
     },
     "metadata": {
      "image/png": {
       "height": 420,
       "width": 420
      }
     },
     "output_type": "display_data"
    }
   ],
   "source": [
    "# Compute roc for roc curve\n",
    "res.roc = roc(observed.classes, as.numeric(predicted.classes))\n",
    "\n",
    "# extract results\n",
    "roc.data = data_frame(\n",
    "thresholds = res.roc$thresholds,\n",
    "sensitivity = res.roc$sensitivities,\n",
    "specificity = res.roc$specificities\n",
    ")\n",
    "# Get the probability threshold for specificity = 0.6\n",
    "roc.data %>% filter(specificity >= 0.6)\n",
    "\n",
    "# plot of best threshold with the highest sum sensitivity + specificity\n",
    "plot.roc(res.roc, print.auc = TRUE, print.thres = \"best\")"
   ]
  },
  {
   "cell_type": "markdown",
   "metadata": {},
   "source": [
    "# Random Forest (Ensemble)"
   ]
  },
  {
   "cell_type": "code",
   "execution_count": 19,
   "metadata": {},
   "outputs": [
    {
     "data": {
      "text/html": [
       "<table>\n",
       "<thead><tr><th scope=col>mtry</th></tr></thead>\n",
       "<tbody>\n",
       "\t<tr><td>2</td></tr>\n",
       "</tbody>\n",
       "</table>\n"
      ],
      "text/latex": [
       "\\begin{tabular}{r|l}\n",
       " mtry\\\\\n",
       "\\hline\n",
       "\t 2\\\\\n",
       "\\end{tabular}\n"
      ],
      "text/markdown": [
       "\n",
       "| mtry |\n",
       "|---|\n",
       "| 2 |\n",
       "\n"
      ],
      "text/plain": [
       "  mtry\n",
       "1 2   "
      ]
     },
     "metadata": {},
     "output_type": "display_data"
    }
   ],
   "source": [
    "# Fit model on training set\n",
    "set.seed(123)\n",
    "model = train(\n",
    "Outcome ~., data = train.transformed, method = \"rf\",\n",
    "trControl = trainControl(\"cv\", number = 10),\n",
    "importance = TRUE, \n",
    "preProcess = c(\"center\",\"scale\"))\n",
    "\n",
    "# Best tuning parameter\n",
    "model$bestTune"
   ]
  },
  {
   "cell_type": "code",
   "execution_count": 20,
   "metadata": {},
   "outputs": [
    {
     "data": {
      "text/plain": [
       "\n",
       "Call:\n",
       " randomForest(x = x, y = y, mtry = param$mtry, importance = TRUE) \n",
       "               Type of random forest: classification\n",
       "                     Number of trees: 500\n",
       "No. of variables tried at each split: 2\n",
       "\n",
       "        OOB estimate of  error rate: 11.22%\n",
       "Confusion matrix:\n",
       "    neg pos class.error\n",
       "neg 280  37   0.1167192\n",
       "pos  32 266   0.1073826"
      ]
     },
     "metadata": {},
     "output_type": "display_data"
    }
   ],
   "source": [
    "# Final model\n",
    "model$finalModel"
   ]
  },
  {
   "cell_type": "code",
   "execution_count": 21,
   "metadata": {},
   "outputs": [
    {
     "data": {
      "text/html": [
       "<ol class=list-inline>\n",
       "\t<li>neg</li>\n",
       "\t<li>neg</li>\n",
       "\t<li>neg</li>\n",
       "\t<li>neg</li>\n",
       "\t<li>neg</li>\n",
       "\t<li>neg</li>\n",
       "</ol>\n",
       "\n",
       "<details>\n",
       "\t<summary style=display:list-item;cursor:pointer>\n",
       "\t\t<strong>Levels</strong>:\n",
       "\t</summary>\n",
       "\t<ol class=list-inline>\n",
       "\t\t<li>'neg'</li>\n",
       "\t\t<li>'pos'</li>\n",
       "\t</ol>\n",
       "</details>"
      ],
      "text/latex": [
       "\\begin{enumerate*}\n",
       "\\item neg\n",
       "\\item neg\n",
       "\\item neg\n",
       "\\item neg\n",
       "\\item neg\n",
       "\\item neg\n",
       "\\end{enumerate*}\n",
       "\n",
       "\\emph{Levels}: \\begin{enumerate*}\n",
       "\\item 'neg'\n",
       "\\item 'pos'\n",
       "\\end{enumerate*}\n"
      ],
      "text/markdown": [
       "1. neg\n",
       "2. neg\n",
       "3. neg\n",
       "4. neg\n",
       "5. neg\n",
       "6. neg\n",
       "\n",
       "\n",
       "\n",
       "**Levels**: 1. 'neg'\n",
       "2. 'pos'\n",
       "\n",
       "\n"
      ],
      "text/plain": [
       "[1] neg neg neg neg neg neg\n",
       "Levels: neg pos"
      ]
     },
     "metadata": {},
     "output_type": "display_data"
    },
    {
     "data": {
      "text/html": [
       "0.901960784313726"
      ],
      "text/latex": [
       "0.901960784313726"
      ],
      "text/markdown": [
       "0.901960784313726"
      ],
      "text/plain": [
       "[1] 0.9019608"
      ]
     },
     "metadata": {},
     "output_type": "display_data"
    }
   ],
   "source": [
    "# Predictions on the test data\n",
    "predicted.classes = model %>% predict(test.transformed)\n",
    "head(predicted.classes)\n",
    "\n",
    "# Accuracy rate\n",
    "mean(predicted.classes == test.transformed$Outcome)"
   ]
  },
  {
   "cell_type": "code",
   "execution_count": 22,
   "metadata": {},
   "outputs": [
    {
     "data": {
      "text/plain": [
       "                predicted.classes\n",
       "observed.classes neg pos\n",
       "             neg  74   5\n",
       "             pos  10  64"
      ]
     },
     "metadata": {},
     "output_type": "display_data"
    },
    {
     "data": {
      "text/plain": [
       "                predicted.classes\n",
       "observed.classes   neg   pos\n",
       "             neg 0.484 0.033\n",
       "             pos 0.065 0.418"
      ]
     },
     "metadata": {},
     "output_type": "display_data"
    },
    {
     "data": {
      "text/plain": [
       "Confusion Matrix and Statistics\n",
       "\n",
       "          Reference\n",
       "Prediction neg pos\n",
       "       neg  74  10\n",
       "       pos   5  64\n",
       "                                          \n",
       "               Accuracy : 0.902           \n",
       "                 95% CI : (0.8435, 0.9441)\n",
       "    No Information Rate : 0.5163          \n",
       "    P-Value [Acc > NIR] : <2e-16          \n",
       "                                          \n",
       "                  Kappa : 0.8033          \n",
       "                                          \n",
       " Mcnemar's Test P-Value : 0.3017          \n",
       "                                          \n",
       "            Sensitivity : 0.9367          \n",
       "            Specificity : 0.8649          \n",
       "         Pos Pred Value : 0.8810          \n",
       "         Neg Pred Value : 0.9275          \n",
       "             Prevalence : 0.5163          \n",
       "         Detection Rate : 0.4837          \n",
       "   Detection Prevalence : 0.5490          \n",
       "      Balanced Accuracy : 0.9008          \n",
       "                                          \n",
       "       'Positive' Class : neg             \n",
       "                                          "
      ]
     },
     "metadata": {},
     "output_type": "display_data"
    }
   ],
   "source": [
    "observed.classes = test.transformed$Outcome\n",
    "\n",
    "# Confusion matrix, number of cases\n",
    "table(observed.classes, predicted.classes)\n",
    "\n",
    "# Confusion matrix, proportion of cases\n",
    "table(observed.classes, predicted.classes) %>%\n",
    "prop.table() %>% round(digits = 3)\n",
    "\n",
    "confusionMatrix(predicted.classes,as.factor(observed.classes))"
   ]
  },
  {
   "cell_type": "code",
   "execution_count": 23,
   "metadata": {},
   "outputs": [
    {
     "name": "stderr",
     "output_type": "stream",
     "text": [
      "Setting levels: control = neg, case = pos\n",
      "\n",
      "Setting direction: controls < cases\n",
      "\n"
     ]
    },
    {
     "data": {
      "text/html": [
       "<table>\n",
       "<thead><tr><th scope=col>thresholds</th><th scope=col>sensitivity</th><th scope=col>specificity</th></tr></thead>\n",
       "<tbody>\n",
       "\t<tr><td>1.5      </td><td>0.8648649</td><td>0.9367089</td></tr>\n",
       "\t<tr><td>Inf      </td><td>0.0000000</td><td>1.0000000</td></tr>\n",
       "</tbody>\n",
       "</table>\n"
      ],
      "text/latex": [
       "\\begin{tabular}{r|lll}\n",
       " thresholds & sensitivity & specificity\\\\\n",
       "\\hline\n",
       "\t 1.5       & 0.8648649 & 0.9367089\\\\\n",
       "\t Inf       & 0.0000000 & 1.0000000\\\\\n",
       "\\end{tabular}\n"
      ],
      "text/markdown": [
       "\n",
       "| thresholds | sensitivity | specificity |\n",
       "|---|---|---|\n",
       "| 1.5       | 0.8648649 | 0.9367089 |\n",
       "| Inf       | 0.0000000 | 1.0000000 |\n",
       "\n"
      ],
      "text/plain": [
       "  thresholds sensitivity specificity\n",
       "1 1.5        0.8648649   0.9367089  \n",
       "2 Inf        0.0000000   1.0000000  "
      ]
     },
     "metadata": {},
     "output_type": "display_data"
    },
    {
     "data": {
      "image/png": "[encoded data removed]",
      "text/plain": [
       "plot without title"
      ]
     },
     "metadata": {
      "image/png": {
       "height": 420,
       "width": 420
      }
     },
     "output_type": "display_data"
    }
   ],
   "source": [
    "# Compute roc for roc curve\n",
    "\n",
    "res.roc = roc(observed.classes, as.numeric(predicted.classes))\n",
    "\n",
    "# Extract results\n",
    "roc.data = data_frame(\n",
    "thresholds = res.roc$thresholds,\n",
    "sensitivity = res.roc$sensitivities,\n",
    "specificity = res.roc$specificities\n",
    ")\n",
    "# {robability threshold for specificity = 0.6\n",
    "roc.data %>% filter(specificity >= 0.6)\n",
    "\n",
    "# plot of best threshold with the highest sum sensitivity + specificity\n",
    "plot.roc(res.roc, print.auc = TRUE, print.thres = \"best\")"
   ]
  },
  {
   "cell_type": "markdown",
   "metadata": {},
   "source": [
    "# kNN"
   ]
  },
  {
   "cell_type": "code",
   "execution_count": 24,
   "metadata": {},
   "outputs": [
    {
     "data": {
      "text/html": [
       "<table>\n",
       "<thead><tr><th></th><th scope=col>k</th></tr></thead>\n",
       "<tbody>\n",
       "\t<tr><th scope=row>11</th><td>25</td></tr>\n",
       "</tbody>\n",
       "</table>\n"
      ],
      "text/latex": [
       "\\begin{tabular}{r|l}\n",
       "  & k\\\\\n",
       "\\hline\n",
       "\t11 & 25\\\\\n",
       "\\end{tabular}\n"
      ],
      "text/markdown": [
       "\n",
       "| <!--/--> | k |\n",
       "|---|---|\n",
       "| 11 | 25 |\n",
       "\n"
      ],
      "text/plain": [
       "   k \n",
       "11 25"
      ]
     },
     "metadata": {},
     "output_type": "display_data"
    },
    {
     "data": {
      "image/png": "[encoded data removed]",
      "text/plain": [
       "plot without title"
      ]
     },
     "metadata": {
      "image/png": {
       "height": 420,
       "width": 420
      }
     },
     "output_type": "display_data"
    }
   ],
   "source": [
    "# Fit the model on the training set\n",
    "set.seed(123)\n",
    "model = train(\n",
    "Outcome ~., data = train.transformed, method = \"knn\",\n",
    "trControl = trainControl(\"cv\", number = 10),\n",
    "preProcess = c(\"center\",\"scale\"), # to normalise the data\n",
    "tuneLength = 20\n",
    ")\n",
    "\n",
    "# Plot model accuracy vs different k values\n",
    "plot(model)\n",
    "\n",
    "# Printing the optimal tuning parameter k that maximizes model accuracy\n",
    "model$bestTune"
   ]
  },
  {
   "cell_type": "code",
   "execution_count": 25,
   "metadata": {},
   "outputs": [
    {
     "data": {
      "text/html": [
       "<ol class=list-inline>\n",
       "\t<li>neg</li>\n",
       "\t<li>pos</li>\n",
       "\t<li>neg</li>\n",
       "\t<li>neg</li>\n",
       "\t<li>neg</li>\n",
       "\t<li>neg</li>\n",
       "</ol>\n",
       "\n",
       "<details>\n",
       "\t<summary style=display:list-item;cursor:pointer>\n",
       "\t\t<strong>Levels</strong>:\n",
       "\t</summary>\n",
       "\t<ol class=list-inline>\n",
       "\t\t<li>'neg'</li>\n",
       "\t\t<li>'pos'</li>\n",
       "\t</ol>\n",
       "</details>"
      ],
      "text/latex": [
       "\\begin{enumerate*}\n",
       "\\item neg\n",
       "\\item pos\n",
       "\\item neg\n",
       "\\item neg\n",
       "\\item neg\n",
       "\\item neg\n",
       "\\end{enumerate*}\n",
       "\n",
       "\\emph{Levels}: \\begin{enumerate*}\n",
       "\\item 'neg'\n",
       "\\item 'pos'\n",
       "\\end{enumerate*}\n"
      ],
      "text/markdown": [
       "1. neg\n",
       "2. pos\n",
       "3. neg\n",
       "4. neg\n",
       "5. neg\n",
       "6. neg\n",
       "\n",
       "\n",
       "\n",
       "**Levels**: 1. 'neg'\n",
       "2. 'pos'\n",
       "\n",
       "\n"
      ],
      "text/plain": [
       "[1] neg pos neg neg neg neg\n",
       "Levels: neg pos"
      ]
     },
     "metadata": {},
     "output_type": "display_data"
    },
    {
     "data": {
      "text/html": [
       "0.718954248366013"
      ],
      "text/latex": [
       "0.718954248366013"
      ],
      "text/markdown": [
       "0.718954248366013"
      ],
      "text/plain": [
       "[1] 0.7189542"
      ]
     },
     "metadata": {},
     "output_type": "display_data"
    }
   ],
   "source": [
    "# Predictions on  test data\n",
    "predicted.classes = model %>% predict(test.transformed)\n",
    "head(predicted.classes)\n",
    "\n",
    "# Accuracy\n",
    "mean(predicted.classes == test.transformed$Outcome)"
   ]
  },
  {
   "cell_type": "code",
   "execution_count": 26,
   "metadata": {},
   "outputs": [
    {
     "data": {
      "text/plain": [
       "                predicted.classes\n",
       "observed.classes neg pos\n",
       "             neg  63  16\n",
       "             pos  27  47"
      ]
     },
     "metadata": {},
     "output_type": "display_data"
    },
    {
     "data": {
      "text/plain": [
       "                predicted.classes\n",
       "observed.classes   neg   pos\n",
       "             neg 0.412 0.105\n",
       "             pos 0.176 0.307"
      ]
     },
     "metadata": {},
     "output_type": "display_data"
    },
    {
     "data": {
      "text/plain": [
       "Confusion Matrix and Statistics\n",
       "\n",
       "          Reference\n",
       "Prediction neg pos\n",
       "       neg  63  27\n",
       "       pos  16  47\n",
       "                                          \n",
       "               Accuracy : 0.719           \n",
       "                 95% CI : (0.6407, 0.7886)\n",
       "    No Information Rate : 0.5163          \n",
       "    P-Value [Acc > NIR] : 2.535e-07       \n",
       "                                          \n",
       "                  Kappa : 0.4346          \n",
       "                                          \n",
       " Mcnemar's Test P-Value : 0.1273          \n",
       "                                          \n",
       "            Sensitivity : 0.7975          \n",
       "            Specificity : 0.6351          \n",
       "         Pos Pred Value : 0.7000          \n",
       "         Neg Pred Value : 0.7460          \n",
       "             Prevalence : 0.5163          \n",
       "         Detection Rate : 0.4118          \n",
       "   Detection Prevalence : 0.5882          \n",
       "      Balanced Accuracy : 0.7163          \n",
       "                                          \n",
       "       'Positive' Class : neg             \n",
       "                                          "
      ]
     },
     "metadata": {},
     "output_type": "display_data"
    }
   ],
   "source": [
    "observed.classes = test.transformed$Outcome\n",
    "\n",
    "# Confusion matrix, number of cases\n",
    "table(observed.classes, predicted.classes)\n",
    "\n",
    "# Confusion matrix, proportion of cases\n",
    "table(observed.classes, predicted.classes) %>%\n",
    "prop.table() %>% round(digits = 3)\n",
    "\n",
    "confusionMatrix(predicted.classes,as.factor(observed.classes))"
   ]
  },
  {
   "cell_type": "code",
   "execution_count": 27,
   "metadata": {
    "scrolled": false
   },
   "outputs": [
    {
     "name": "stderr",
     "output_type": "stream",
     "text": [
      "Setting levels: control = neg, case = pos\n",
      "\n",
      "Setting direction: controls < cases\n",
      "\n"
     ]
    },
    {
     "data": {
      "text/html": [
       "<table>\n",
       "<thead><tr><th scope=col>thresholds</th><th scope=col>sensitivity</th><th scope=col>specificity</th></tr></thead>\n",
       "<tbody>\n",
       "\t<tr><td>1.5      </td><td>0.6351351</td><td>0.7974684</td></tr>\n",
       "\t<tr><td>Inf      </td><td>0.0000000</td><td>1.0000000</td></tr>\n",
       "</tbody>\n",
       "</table>\n"
      ],
      "text/latex": [
       "\\begin{tabular}{r|lll}\n",
       " thresholds & sensitivity & specificity\\\\\n",
       "\\hline\n",
       "\t 1.5       & 0.6351351 & 0.7974684\\\\\n",
       "\t Inf       & 0.0000000 & 1.0000000\\\\\n",
       "\\end{tabular}\n"
      ],
      "text/markdown": [
       "\n",
       "| thresholds | sensitivity | specificity |\n",
       "|---|---|---|\n",
       "| 1.5       | 0.6351351 | 0.7974684 |\n",
       "| Inf       | 0.0000000 | 1.0000000 |\n",
       "\n"
      ],
      "text/plain": [
       "  thresholds sensitivity specificity\n",
       "1 1.5        0.6351351   0.7974684  \n",
       "2 Inf        0.0000000   1.0000000  "
      ]
     },
     "metadata": {},
     "output_type": "display_data"
    },
    {
     "data": {
      "image/png": "[encoded data removed]",
      "text/plain": [
       "plot without title"
      ]
     },
     "metadata": {
      "image/png": {
       "height": 420,
       "width": 420
      }
     },
     "output_type": "display_data"
    }
   ],
   "source": [
    "# Computing roc\n",
    "\n",
    "res.roc = roc(observed.classes, as.numeric(predicted.classes))\n",
    "\n",
    "# Extracting results\n",
    "roc.data = data_frame(\n",
    "thresholds = res.roc$thresholds,\n",
    "sensitivity = res.roc$sensitivities,\n",
    "specificity = res.roc$specificities\n",
    ")\n",
    "# Probability threshold for specificity = 0.6\n",
    "roc.data %>% filter(specificity >= 0.6)\n",
    "\n",
    "# plot of best threshold with the highest sum sensitivity + specificity\n",
    "plot.roc(res.roc, print.auc = TRUE, print.thres = \"best\")"
   ]
  },
  {
   "cell_type": "code",
   "execution_count": null,
   "metadata": {},
   "outputs": [],
   "source": []
  }
 ],
 "metadata": {
  "kernelspec": {
   "display_name": "R 3.6.3",
   "language": "R",
   "name": "ir35"
  },
  "language_info": {
   "codemirror_mode": "r",
   "file_extension": ".r",
   "mimetype": "text/x-r-source",
   "name": "R",
   "pygments_lexer": "r",
   "version": "3.6.1"
  }
 },
 "nbformat": 4,
 "nbformat_minor": 5
}
